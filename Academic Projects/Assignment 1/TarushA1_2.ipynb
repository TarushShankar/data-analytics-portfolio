{
  "cells": [
    {
      "cell_type": "markdown",
      "metadata": {
        "id": "TEs_hv22zxbk"
      },
      "source": [
        "# A1-2\n",
        "*Tarush Shankar (1647043)*"
      ]
    },
    {
      "cell_type": "markdown",
      "metadata": {
        "id": "R2u5Cxi1z4_m"
      },
      "source": [
        "This Assignment Solution is the work of Tarush Shankar (SID: 1647043) and has been performed in an individual capacity without any collaboration with others"
      ]
    },
    {
      "cell_type": "markdown",
      "metadata": {
        "id": "skduokL_z8s9"
      },
      "source": [
        "The Dataset Utilized for this Assignment Questionn 2 Has been Obtained From eClass as data-Q2.csv file."
      ]
    },
    {
      "cell_type": "code",
      "execution_count": 5,
      "metadata": {
        "id": "X4yGb1Jw0cYZ"
      },
      "outputs": [],
      "source": [
        "# Importing Relevant Initialization Files\n",
        "import pandas as pd\n",
        "import numpy as np\n",
        "import seaborn as sns\n",
        "import matplotlib.pyplot as plt\n",
        "\n"
      ]
    },
    {
      "cell_type": "code",
      "execution_count": 10,
      "metadata": {
        "id": "dOJy6kqm00f-"
      },
      "outputs": [],
      "source": [
        "#reading the contents of the CSV (comma seperated values) file into a pandas dataframe\n",
        "df = pd.read_csv('/data-Q2.csv')"
      ]
    },
    {
      "cell_type": "markdown",
      "metadata": {
        "id": "HS0Dw-la5Jn6"
      },
      "source": [
        "## Exploratory Data Analysis"
      ]
    },
    {
      "cell_type": "code",
      "execution_count": 7,
      "metadata": {
        "colab": {
          "base_uri": "https://localhost:8080/",
          "height": 206
        },
        "id": "m3xucWZh4Ueh",
        "outputId": "3136236f-fad1-4226-ee64-b3415920c630"
      },
      "outputs": [
        {
          "data": {
            "text/html": [
              "\n",
              "  <div id=\"df-25beb66e-42aa-4df9-afeb-b4207f6ad1e7\" class=\"colab-df-container\">\n",
              "    <div>\n",
              "<style scoped>\n",
              "    .dataframe tbody tr th:only-of-type {\n",
              "        vertical-align: middle;\n",
              "    }\n",
              "\n",
              "    .dataframe tbody tr th {\n",
              "        vertical-align: top;\n",
              "    }\n",
              "\n",
              "    .dataframe thead th {\n",
              "        text-align: right;\n",
              "    }\n",
              "</style>\n",
              "<table border=\"1\" class=\"dataframe\">\n",
              "  <thead>\n",
              "    <tr style=\"text-align: right;\">\n",
              "      <th></th>\n",
              "      <th>Country</th>\n",
              "      <th>Life Expectancy</th>\n",
              "      <th>Infant Mortality</th>\n",
              "      <th>Education</th>\n",
              "      <th>Health</th>\n",
              "      <th>Health USD</th>\n",
              "    </tr>\n",
              "  </thead>\n",
              "  <tbody>\n",
              "    <tr>\n",
              "      <th>0</th>\n",
              "      <td>Argentina</td>\n",
              "      <td>75.592</td>\n",
              "      <td>13.5</td>\n",
              "      <td>16.841</td>\n",
              "      <td>9.525</td>\n",
              "      <td>734.093</td>\n",
              "    </tr>\n",
              "    <tr>\n",
              "      <th>1</th>\n",
              "      <td>Cameroon</td>\n",
              "      <td>53.288</td>\n",
              "      <td>67.7</td>\n",
              "      <td>7.137</td>\n",
              "      <td>4.915</td>\n",
              "      <td>60.412</td>\n",
              "    </tr>\n",
              "    <tr>\n",
              "      <th>2</th>\n",
              "      <td>Chile</td>\n",
              "      <td>78.936</td>\n",
              "      <td>7.8</td>\n",
              "      <td>17.356</td>\n",
              "      <td>8.400</td>\n",
              "      <td>801.915</td>\n",
              "    </tr>\n",
              "    <tr>\n",
              "      <th>3</th>\n",
              "      <td>Colombia</td>\n",
              "      <td>73.213</td>\n",
              "      <td>16.5</td>\n",
              "      <td>15.589</td>\n",
              "      <td>7.600</td>\n",
              "      <td>391.859</td>\n",
              "    </tr>\n",
              "    <tr>\n",
              "      <th>4</th>\n",
              "      <td>Cuba</td>\n",
              "      <td>78.552</td>\n",
              "      <td>4.8</td>\n",
              "      <td>44.173</td>\n",
              "      <td>12.100</td>\n",
              "      <td>672.204</td>\n",
              "    </tr>\n",
              "  </tbody>\n",
              "</table>\n",
              "</div>\n",
              "    <div class=\"colab-df-buttons\">\n",
              "\n",
              "  <div class=\"colab-df-container\">\n",
              "    <button class=\"colab-df-convert\" onclick=\"convertToInteractive('df-25beb66e-42aa-4df9-afeb-b4207f6ad1e7')\"\n",
              "            title=\"Convert this dataframe to an interactive table.\"\n",
              "            style=\"display:none;\">\n",
              "\n",
              "  <svg xmlns=\"http://www.w3.org/2000/svg\" height=\"24px\" viewBox=\"0 -960 960 960\">\n",
              "    <path d=\"M120-120v-720h720v720H120Zm60-500h600v-160H180v160Zm220 220h160v-160H400v160Zm0 220h160v-160H400v160ZM180-400h160v-160H180v160Zm440 0h160v-160H620v160ZM180-180h160v-160H180v160Zm440 0h160v-160H620v160Z\"/>\n",
              "  </svg>\n",
              "    </button>\n",
              "\n",
              "  <style>\n",
              "    .colab-df-container {\n",
              "      display:flex;\n",
              "      gap: 12px;\n",
              "    }\n",
              "\n",
              "    .colab-df-convert {\n",
              "      background-color: #E8F0FE;\n",
              "      border: none;\n",
              "      border-radius: 50%;\n",
              "      cursor: pointer;\n",
              "      display: none;\n",
              "      fill: #1967D2;\n",
              "      height: 32px;\n",
              "      padding: 0 0 0 0;\n",
              "      width: 32px;\n",
              "    }\n",
              "\n",
              "    .colab-df-convert:hover {\n",
              "      background-color: #E2EBFA;\n",
              "      box-shadow: 0px 1px 2px rgba(60, 64, 67, 0.3), 0px 1px 3px 1px rgba(60, 64, 67, 0.15);\n",
              "      fill: #174EA6;\n",
              "    }\n",
              "\n",
              "    .colab-df-buttons div {\n",
              "      margin-bottom: 4px;\n",
              "    }\n",
              "\n",
              "    [theme=dark] .colab-df-convert {\n",
              "      background-color: #3B4455;\n",
              "      fill: #D2E3FC;\n",
              "    }\n",
              "\n",
              "    [theme=dark] .colab-df-convert:hover {\n",
              "      background-color: #434B5C;\n",
              "      box-shadow: 0px 1px 3px 1px rgba(0, 0, 0, 0.15);\n",
              "      filter: drop-shadow(0px 1px 2px rgba(0, 0, 0, 0.3));\n",
              "      fill: #FFFFFF;\n",
              "    }\n",
              "  </style>\n",
              "\n",
              "    <script>\n",
              "      const buttonEl =\n",
              "        document.querySelector('#df-25beb66e-42aa-4df9-afeb-b4207f6ad1e7 button.colab-df-convert');\n",
              "      buttonEl.style.display =\n",
              "        google.colab.kernel.accessAllowed ? 'block' : 'none';\n",
              "\n",
              "      async function convertToInteractive(key) {\n",
              "        const element = document.querySelector('#df-25beb66e-42aa-4df9-afeb-b4207f6ad1e7');\n",
              "        const dataTable =\n",
              "          await google.colab.kernel.invokeFunction('convertToInteractive',\n",
              "                                                    [key], {});\n",
              "        if (!dataTable) return;\n",
              "\n",
              "        const docLinkHtml = 'Like what you see? Visit the ' +\n",
              "          '<a target=\"_blank\" href=https://colab.research.google.com/notebooks/data_table.ipynb>data table notebook</a>'\n",
              "          + ' to learn more about interactive tables.';\n",
              "        element.innerHTML = '';\n",
              "        dataTable['output_type'] = 'display_data';\n",
              "        await google.colab.output.renderOutput(dataTable, element);\n",
              "        const docLink = document.createElement('div');\n",
              "        docLink.innerHTML = docLinkHtml;\n",
              "        element.appendChild(docLink);\n",
              "      }\n",
              "    </script>\n",
              "  </div>\n",
              "\n",
              "\n",
              "<div id=\"df-a2a3cdec-9fc1-49c8-a777-3923b458dcfa\">\n",
              "  <button class=\"colab-df-quickchart\" onclick=\"quickchart('df-a2a3cdec-9fc1-49c8-a777-3923b458dcfa')\"\n",
              "            title=\"Suggest charts\"\n",
              "            style=\"display:none;\">\n",
              "\n",
              "<svg xmlns=\"http://www.w3.org/2000/svg\" height=\"24px\"viewBox=\"0 0 24 24\"\n",
              "     width=\"24px\">\n",
              "    <g>\n",
              "        <path d=\"M19 3H5c-1.1 0-2 .9-2 2v14c0 1.1.9 2 2 2h14c1.1 0 2-.9 2-2V5c0-1.1-.9-2-2-2zM9 17H7v-7h2v7zm4 0h-2V7h2v10zm4 0h-2v-4h2v4z\"/>\n",
              "    </g>\n",
              "</svg>\n",
              "  </button>\n",
              "\n",
              "<style>\n",
              "  .colab-df-quickchart {\n",
              "      --bg-color: #E8F0FE;\n",
              "      --fill-color: #1967D2;\n",
              "      --hover-bg-color: #E2EBFA;\n",
              "      --hover-fill-color: #174EA6;\n",
              "      --disabled-fill-color: #AAA;\n",
              "      --disabled-bg-color: #DDD;\n",
              "  }\n",
              "\n",
              "  [theme=dark] .colab-df-quickchart {\n",
              "      --bg-color: #3B4455;\n",
              "      --fill-color: #D2E3FC;\n",
              "      --hover-bg-color: #434B5C;\n",
              "      --hover-fill-color: #FFFFFF;\n",
              "      --disabled-bg-color: #3B4455;\n",
              "      --disabled-fill-color: #666;\n",
              "  }\n",
              "\n",
              "  .colab-df-quickchart {\n",
              "    background-color: var(--bg-color);\n",
              "    border: none;\n",
              "    border-radius: 50%;\n",
              "    cursor: pointer;\n",
              "    display: none;\n",
              "    fill: var(--fill-color);\n",
              "    height: 32px;\n",
              "    padding: 0;\n",
              "    width: 32px;\n",
              "  }\n",
              "\n",
              "  .colab-df-quickchart:hover {\n",
              "    background-color: var(--hover-bg-color);\n",
              "    box-shadow: 0 1px 2px rgba(60, 64, 67, 0.3), 0 1px 3px 1px rgba(60, 64, 67, 0.15);\n",
              "    fill: var(--button-hover-fill-color);\n",
              "  }\n",
              "\n",
              "  .colab-df-quickchart-complete:disabled,\n",
              "  .colab-df-quickchart-complete:disabled:hover {\n",
              "    background-color: var(--disabled-bg-color);\n",
              "    fill: var(--disabled-fill-color);\n",
              "    box-shadow: none;\n",
              "  }\n",
              "\n",
              "  .colab-df-spinner {\n",
              "    border: 2px solid var(--fill-color);\n",
              "    border-color: transparent;\n",
              "    border-bottom-color: var(--fill-color);\n",
              "    animation:\n",
              "      spin 1s steps(1) infinite;\n",
              "  }\n",
              "\n",
              "  @keyframes spin {\n",
              "    0% {\n",
              "      border-color: transparent;\n",
              "      border-bottom-color: var(--fill-color);\n",
              "      border-left-color: var(--fill-color);\n",
              "    }\n",
              "    20% {\n",
              "      border-color: transparent;\n",
              "      border-left-color: var(--fill-color);\n",
              "      border-top-color: var(--fill-color);\n",
              "    }\n",
              "    30% {\n",
              "      border-color: transparent;\n",
              "      border-left-color: var(--fill-color);\n",
              "      border-top-color: var(--fill-color);\n",
              "      border-right-color: var(--fill-color);\n",
              "    }\n",
              "    40% {\n",
              "      border-color: transparent;\n",
              "      border-right-color: var(--fill-color);\n",
              "      border-top-color: var(--fill-color);\n",
              "    }\n",
              "    60% {\n",
              "      border-color: transparent;\n",
              "      border-right-color: var(--fill-color);\n",
              "    }\n",
              "    80% {\n",
              "      border-color: transparent;\n",
              "      border-right-color: var(--fill-color);\n",
              "      border-bottom-color: var(--fill-color);\n",
              "    }\n",
              "    90% {\n",
              "      border-color: transparent;\n",
              "      border-bottom-color: var(--fill-color);\n",
              "    }\n",
              "  }\n",
              "</style>\n",
              "\n",
              "  <script>\n",
              "    async function quickchart(key) {\n",
              "      const quickchartButtonEl =\n",
              "        document.querySelector('#' + key + ' button');\n",
              "      quickchartButtonEl.disabled = true;  // To prevent multiple clicks.\n",
              "      quickchartButtonEl.classList.add('colab-df-spinner');\n",
              "      try {\n",
              "        const charts = await google.colab.kernel.invokeFunction(\n",
              "            'suggestCharts', [key], {});\n",
              "      } catch (error) {\n",
              "        console.error('Error during call to suggestCharts:', error);\n",
              "      }\n",
              "      quickchartButtonEl.classList.remove('colab-df-spinner');\n",
              "      quickchartButtonEl.classList.add('colab-df-quickchart-complete');\n",
              "    }\n",
              "    (() => {\n",
              "      let quickchartButtonEl =\n",
              "        document.querySelector('#df-a2a3cdec-9fc1-49c8-a777-3923b458dcfa button');\n",
              "      quickchartButtonEl.style.display =\n",
              "        google.colab.kernel.accessAllowed ? 'block' : 'none';\n",
              "    })();\n",
              "  </script>\n",
              "</div>\n",
              "    </div>\n",
              "  </div>\n"
            ],
            "text/plain": [
              "     Country  Life Expectancy  Infant Mortality  Education  Health  Health USD\n",
              "0  Argentina           75.592              13.5     16.841   9.525     734.093\n",
              "1   Cameroon           53.288              67.7      7.137   4.915      60.412\n",
              "2      Chile           78.936               7.8     17.356   8.400     801.915\n",
              "3   Colombia           73.213              16.5     15.589   7.600     391.859\n",
              "4       Cuba           78.552               4.8     44.173  12.100     672.204"
            ]
          },
          "execution_count": 7,
          "metadata": {},
          "output_type": "execute_result"
        }
      ],
      "source": [
        "#Displaying the first five entries of the contents of our Dataframe\n",
        "df.head()"
      ]
    },
    {
      "cell_type": "code",
      "execution_count": 8,
      "metadata": {
        "colab": {
          "base_uri": "https://localhost:8080/"
        },
        "id": "ugcKI9HK4V5Q",
        "outputId": "5774f658-155e-493a-b2fa-3d9c2d4df125"
      },
      "outputs": [
        {
          "data": {
            "text/plain": [
              "(15, 6)"
            ]
          },
          "execution_count": 8,
          "metadata": {},
          "output_type": "execute_result"
        }
      ],
      "source": [
        "#Displaying the Number of Rows and Columns of our Dataframe\n",
        "df.shape"
      ]
    },
    {
      "cell_type": "code",
      "execution_count": 11,
      "metadata": {
        "colab": {
          "base_uri": "https://localhost:8080/"
        },
        "id": "cufWbmwr4hS_",
        "outputId": "aafd33f3-ba7e-41ed-bf01-30d7c371ecec"
      },
      "outputs": [
        {
          "data": {
            "text/plain": [
              "Country              object\n",
              "Life Expectancy     float64\n",
              "Infant Mortality    float64\n",
              "Education           float64\n",
              "Health              float64\n",
              "Health USD          float64\n",
              "dtype: object"
            ]
          },
          "execution_count": 11,
          "metadata": {},
          "output_type": "execute_result"
        }
      ],
      "source": [
        "#Exploring the Data types of each of our Dataset Features (Columns)\n",
        "df.dtypes"
      ]
    },
    {
      "cell_type": "code",
      "execution_count": 14,
      "metadata": {
        "colab": {
          "base_uri": "https://localhost:8080/"
        },
        "id": "iTCrsTjz4jQf",
        "outputId": "2cfedf01-03c8-4dd4-9296-7dd605c87512"
      },
      "outputs": [
        {
          "name": "stderr",
          "output_type": "stream",
          "text": [
            "<ipython-input-14-efa0e698dff9>:3: FutureWarning: The default value of numeric_only in DataFrame.corr is deprecated. In a future version, it will default to False. Select only valid columns or specify the value of numeric_only to silence this warning.\n",
            "  correlation = df.corr()\n"
          ]
        }
      ],
      "source": [
        "#Using the in-built corr() function accessible by a Pandas DataFrame, we will calculate the correlation values of features with respect to\n",
        "#each other.\n",
        "correlation = df.corr()\n"
      ]
    },
    {
      "cell_type": "code",
      "execution_count": 15,
      "metadata": {
        "colab": {
          "base_uri": "https://localhost:8080/",
          "height": 549
        },
        "id": "xXjakbk-70-4",
        "outputId": "a5f21b79-c01c-4868-a3fe-7349b944887d"
      },
      "outputs": [
        {
          "data": {
            "text/plain": [
              "<Axes: >"
            ]
          },
          "execution_count": 15,
          "metadata": {},
          "output_type": "execute_result"
        },
        {
          "data": {
            "image/png": "[encoded data removed]",
            "text/plain": [
              "<Figure size 640x480 with 2 Axes>"
            ]
          },
          "metadata": {},
          "output_type": "display_data"
        }
      ],
      "source": [
        "sns.heatmap(correlation,annot=True)"
      ]
    },
    {
      "cell_type": "code",
      "execution_count": 16,
      "metadata": {
        "colab": {
          "base_uri": "https://localhost:8080/"
        },
        "id": "ehOd1wlH78Kl",
        "outputId": "b1fdab6b-b3d9-44db-87dd-9f448bbb7aaf"
      },
      "outputs": [
        {
          "data": {
            "text/plain": [
              "Life Expectancy     1.000000\n",
              "Infant Mortality   -0.960733\n",
              "Education           0.476788\n",
              "Health              0.572329\n",
              "Health USD          0.776000\n",
              "Name: Life Expectancy, dtype: float64"
            ]
          },
          "execution_count": 16,
          "metadata": {},
          "output_type": "execute_result"
        }
      ],
      "source": [
        "correlation[\"Life Expectancy\"]"
      ]
    },
    {
      "cell_type": "markdown",
      "metadata": {
        "id": "2-CAcPIM95z_"
      },
      "source": [
        "## Final Comments"
      ]
    },
    {
      "cell_type": "markdown",
      "metadata": {
        "id": "7QBuJnHR-U-p"
      },
      "source": [
        "As we can see from the calculated correlated values of Life Expectancy with other features of the data set, we can make certain educated infrences.\n",
        "\n",
        "The first conculsion that can be drawn from the above calculated value is that Life Expectancy has an almost negative correlation with Infant Mortality suggesting that Infant Mortality severly reduces the Life Expectancy of a person (because a person would have died in their infancy).\n",
        "\n",
        "The remaining conclusions are all related to the positive values of correlation of Life Expectancy with other features like Education(Spending per primary student as a percentage of a country's GDP), Health (Spending on health and healthcare infrastructure as a percentage of country's GDP) and Healthcare USD(Health spending per country's person converted to USD currency).\n",
        "\n",
        "Life Expectancy has the strongest positive correlation value with a country's average Healthcare Expenditure in USD per person suggesting that a good investment in an average person's health has a net positive impact on lengthening the life expectancy of the people of a particular country.\n",
        "\n",
        "Life Expectancy has a postive correlation value with Health and Educational Expenditure as a country's GDP % suggesting that both of these factors contribute positively in lengthening the Life Expectancy of a country's person however not as impactful as the Healthcare Expenditure per person in USD.\n",
        "\n",
        "The corr() function was unable to calculate the correlation value of Life Expectancy as a feature with respect to Country due to the difference in Data Types and the fact that we are exploring Life Expectancy of a particular Country and its relation with other parameter variables as mentioned and analysed as above.\n"
      ]
    }
  ],
  "metadata": {
    "colab": {
      "provenance": []
    },
    "kernelspec": {
      "display_name": "Python 3",
      "name": "python3"
    },
    "language_info": {
      "name": "python"
    }
  },
  "nbformat": 4,
  "nbformat_minor": 0
}
